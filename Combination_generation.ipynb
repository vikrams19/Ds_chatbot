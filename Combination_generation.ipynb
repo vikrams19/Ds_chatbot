{
  "nbformat": 4,
  "nbformat_minor": 0,
  "metadata": {
    "colab": {
      "provenance": []
    },
    "kernelspec": {
      "name": "python3",
      "display_name": "Python 3"
    },
    "language_info": {
      "name": "python"
    }
  },
  "cells": [
    {
      "cell_type": "code",
      "execution_count": null,
      "metadata": {
        "id": "5Zsp_hqKfLVG"
      },
      "outputs": [],
      "source": [
        "import pandas as pd\n",
        "from itertools import combinations\n",
        "\n",
        "# Read the existing CSV into a DataFrame\n",
        "df = pd.read_csv('Data_science_proj.csv')  # Replace 'Data_science_proj.csv' with the actual name of your CSV file\n",
        "\n",
        "# Function to handle '1/8 Hours' and '1/4 Hours' cases\n",
        "def handle_hours(hours_str):\n",
        "    if '1/8' in str(hours_str):\n",
        "        return [float(i) for i in range(1, 9)]\n",
        "    elif '1/4' in str(hours_str):\n",
        "        return [float(i) for i in range(1, 5)]\n",
        "    else:\n",
        "        return [float(hours_str)]\n",
        "\n",
        "# Explode the DataFrame based on the lists in the 'Hours' column\n",
        "df_exploded = df.copy()\n",
        "df_exploded['Hours'] = df_exploded['Hours'].apply(handle_hours)\n",
        "df_exploded = df_exploded.explode('Hours')\n",
        "\n",
        "# Define the target total hours\n",
        "target_total_hours = 32\n",
        "\n",
        "# Identify the mandatory course\n",
        "mandatory_course = \"INFO 5100\"\n",
        "\n",
        "# Filter out the mandatory course\n",
        "mandatory_course_data = df_exploded[df_exploded['Course Code'] + \" \" + df_exploded['Course number'].astype(str) == mandatory_course]\n",
        "\n",
        "# Remove the mandatory course from the DataFrame\n",
        "df_exploded = df_exploded[df_exploded['Course Code'] + \" \" + df_exploded['Course number'].astype(str) != mandatory_course]\n",
        "\n",
        "# Initialize variables\n",
        "selected_courses_list = []\n",
        "\n",
        "# Generate combinations for the remaining courses\n",
        "remaining_combinations = combinations(df_exploded.iterrows(), 7)  # Adjust the number in the combination as needed\n",
        "\n",
        "# Iterate through combinations and select courses until the total hours reach the target\n",
        "for combination in remaining_combinations:\n",
        "    total_hours = mandatory_course_data['Hours'].sum()\n",
        "    selected_courses = [mandatory_course]\n",
        "\n",
        "    for index, course in combination:\n",
        "        selected_courses.append(course['Course Code'] + \" \" + str(course['Course number']))\n",
        "        total_hours += course['Hours']\n",
        "\n",
        "        if total_hours >= target_total_hours:\n",
        "            break\n",
        "\n",
        "    if total_hours == target_total_hours:\n",
        "        # Append the selected courses to the list\n",
        "        selected_courses_list.append(selected_courses)\n",
        "\n"
      ]
    },
    {
      "cell_type": "code",
      "source": [
        "# Create a DataFrame with all selected courses\n",
        "selected_courses_df = pd.DataFrame({\"Selected Courses\": selected_courses_list})\n",
        "\n",
        "# Save the DataFrame to a CSV file\n",
        "selected_courses_df.to_csv(\"selected_courses_combinations_final.csv\", index=False)"
      ],
      "metadata": {
        "id": "po4SxM1PfPuh"
      },
      "execution_count": null,
      "outputs": []
    }
  ]
}